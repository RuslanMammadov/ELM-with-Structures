{
 "cells": [
  {
   "cell_type": "markdown",
   "metadata": {},
   "source": [
    "# Forest"
   ]
  },
  {
   "cell_type": "code",
   "execution_count": 1,
   "metadata": {},
   "outputs": [],
   "source": [
    "import pandas as pd\n",
    "import numpy as np\n",
    "import statistics\n",
    "from sklearn.model_selection import train_test_split\n",
    "from sklearn.preprocessing import StandardScaler\n",
    "from sklearn.metrics import accuracy_score\n",
    "import sys\n",
    "sys.path.append('../../')\n",
    "from src.elm.elms import ClassicELM, ToeplitzELM, CirculantELM, FastFoodELM, ToeplitzLikeELM, VandermondeELM, LowRankELM\n",
    "import hpelm\n",
    "import matplotlib.pyplot as plt\n",
    "import pickle\n",
    "from tensorflow.keras.initializers import RandomNormal\n",
    "from sklearn.datasets import fetch_covtype"
   ]
  },
  {
   "cell_type": "markdown",
   "metadata": {},
   "source": [
    "# Load the dataset from CSV file \n",
    "## Before that CSV file must be downloaded from the Kaggle website!"
   ]
  },
  {
   "cell_type": "code",
   "execution_count": null,
   "metadata": {},
   "outputs": [],
   "source": [
    "forest_dataset = pd.read_csv(\"../datasets/covtype.csv\")\n",
    "\n",
    "y = (forest_dataset.Cover_Type == 2).astype(int)\n",
    "y[y == 0] = -1\n",
    "\n",
    "x = forest_dataset.drop(\"Cover_Type\", axis=1)\n",
    "\n",
    "forest_dataset=None"
   ]
  },
  {
   "cell_type": "markdown",
   "metadata": {},
   "source": [
    "# OR download the dataset from the internet (almost the same values)\n",
    "## Downloading takes some time"
   ]
  },
  {
   "cell_type": "code",
   "execution_count": 3,
   "metadata": {},
   "outputs": [
    {
     "name": "stderr",
     "output_type": "stream",
     "text": [
      "Downloading https://ndownloader.figshare.com/files/5976039\n"
     ]
    }
   ],
   "source": [
    "x, y = fetch_covtype(data_home=\"../datasets\", download_if_missing=True, shuffle=False, return_X_y=True)\n",
    "y = (y == 2).astype(int)\n",
    "y[y == 0] = -1"
   ]
  },
  {
   "cell_type": "markdown",
   "metadata": {},
   "source": [
    "# Preprocessing"
   ]
  },
  {
   "cell_type": "code",
   "execution_count": 4,
   "metadata": {},
   "outputs": [],
   "source": [
    "# Split data\n",
    "x_train, x_test, y_train, y_test = train_test_split(x, y, test_size=481012 / 581012, \n",
    "                                                            shuffle=True, random_state=42, stratify=y)\n",
    "y_train_hp = np.expand_dims(y_train, -1)\n",
    "y_test_hp = np.expand_dims(y_test, -1)"
   ]
  },
  {
   "cell_type": "code",
   "execution_count": 5,
   "metadata": {},
   "outputs": [],
   "source": [
    "# Scale\n",
    "scaler = StandardScaler(copy=False, with_mean=True, with_std=True)\n",
    "x_train = scaler.fit_transform(x_train)\n",
    "x_test = scaler.transform(x_test)"
   ]
  },
  {
   "cell_type": "code",
   "execution_count": 6,
   "metadata": {},
   "outputs": [],
   "source": [
    "x = None\n",
    "y = None\n",
    "scaler = None"
   ]
  },
  {
   "cell_type": "markdown",
   "metadata": {},
   "source": [
    "# Train method"
   ]
  },
  {
   "cell_type": "code",
   "execution_count": 7,
   "metadata": {},
   "outputs": [],
   "source": [
    "def test(elm_class, neurons_number=200,  trial_number=12, print_every=1,\n",
    "                regression_tool=\"ridge_sklearn\", alpha=1e-9, s=1, **kwargs):\n",
    "    training_score = []\n",
    "    testing_score = []\n",
    "    stddev = s / (x_train[0].shape[0] ** 0.5)\n",
    "    for i in range(trial_number):\n",
    "        elm = elm_class(hidden_neurons=[neurons_number], is_classifier=True, activation=\"sigmoid\", input_shape=x_train[0].shape, use_bias=True,\n",
    "                     kernel_initializer=RandomNormal(0, stddev), bias_initializer=RandomNormal(0, 1), dev=stddev, **kwargs)\n",
    "        elm.fit(x_train, y_train, regression_tool=regression_tool, alpha=alpha)\n",
    "        elm.fit(x_train, y_train, regression_tool=regression_tool, alpha=alpha)\n",
    "        training_score.append(elm.calculate_classification_accuracy(x_train, y_train))\n",
    "        testing_score.append(elm.calculate_classification_accuracy(x_test, y_test))\n",
    "        \n",
    "        del elm    \n",
    "        if (i + 1) % print_every == 0:\n",
    "            print(f\"{i + 1}/{trial_number} Training score: {training_score[i]:.{4}}. \"\n",
    "                  f\"Testing score: {testing_score[i]:.{4}}\")  \n",
    "    return [training_score, testing_score]\n",
    "\n",
    "def test_hpelm(neurons_number=200, trial_number=3, print_every=1):\n",
    "    hpelm_training_rmse = []\n",
    "    hpelm_testing_rmse = []\n",
    "    for i in range(trial_number):\n",
    "        elm = hpelm.ELM(x_train.shape[1], y_train_hp.shape[1])\n",
    "        elm.add_neurons(neurons_number, \"sigm\")\n",
    "        elm.train(x_train, y_train_hp)\n",
    "        hpelm_training_rmse.append(accuracy_score(y_train_hp > 0, elm.predict(x_train) > 0))\n",
    "        hpelm_testing_rmse.append(accuracy_score(y_test_hp > 0, elm.predict(x_test) > 0))\n",
    "        if(i + 1) % print_every == 0:\n",
    "            print(f\"{i + 1}/{trial_number} Training RMSE: {hpelm_training_rmse[i]:.{4}}. Testing RMSE: {hpelm_testing_rmse[i]:.{4}}\")\n",
    "    return [hpelm_training_rmse, hpelm_testing_rmse]    \n",
    "\n",
    "\n",
    "def print_result(name, training_score, testing_score):\n",
    "    print(name)\n",
    "    print(f\"Training Score: {statistics.mean(training_score):.{4}}\")\n",
    "    print(f\"Testing Score: {statistics.mean(testing_score):.{4}}\")"
   ]
  },
  {
   "cell_type": "markdown",
   "metadata": {},
   "source": [
    "## Train the best ELMs\n",
    "### Execution will take much time!"
   ]
  },
  {
   "cell_type": "code",
   "execution_count": 72,
   "metadata": {},
   "outputs": [],
   "source": [
    "classical_scores = []\n",
    "t_scores = []\n",
    "c_scores = []\n",
    "hpelm_scores = []\n",
    "\n",
    "fastfood_scores = []\n",
    "low_rank = []\n",
    "\n",
    "neurons = []"
   ]
  },
  {
   "cell_type": "code",
   "execution_count": 75,
   "metadata": {},
   "outputs": [],
   "source": [
    "for i in range(4, 10):\n",
    "    n = i * 200\n",
    "    neurons.append(n)\n",
    "\n",
    "    print(f\"Neurons: {n}\")\n",
    "    \n",
    "    print(\"Hpelm\")\n",
    "    hpelm_scores.append(test_hpelm(neurons_number=n))\n",
    "    \n",
    "    print(\"LowRank ELM\")\n",
    "    low_rank.append(test(ToeplitzLikeELM, neurons_number=n))\n",
    "    \n",
    "    print(\"My classical ELM\")\n",
    "    classical_scores.append(test(ClassicELM, neurons_number=n))\n",
    "    \n",
    "    print(\"Toeplitz ELM\")\n",
    "    t_scores.append(test(ToeplitzELM, neurons_number=n))\n",
    "\n",
    "    print(\"Ciculant ELM\")\n",
    "    c_scores.append(test(CirculantELM, neurons_number=n))\n",
    "    \n",
    "    print(\"Fastfood ELM\")\n",
    "    fastfood_scores.append(test(FastFoodELM, neurons_number=n))\n",
    "\n",
    "    result = [neurons, hpelm_scores, classical_scores, t_scores, c_scores, fastfood_scores, low_rank]\n",
    "    with open(f\"forest/results{n}.p\", \"wb\") as file:\n",
    "        pickle.dump(result, file)"
   ]
  },
  {
   "cell_type": "code",
   "execution_count": 23,
   "metadata": {},
   "outputs": [],
   "source": [
    "result = [neurons, hpelm_scores, classical_scores, t_scores, c_scores, fastfood_scores, low_rank]\n",
    "with open(\"forest/results_temp.p\", \"wb\") as file:\n",
    "    pickle.dump(result, file)"
   ]
  },
  {
   "cell_type": "markdown",
   "metadata": {},
   "source": [
    "# Train bad ELMs\n",
    "### Execution will take much time!"
   ]
  },
  {
   "cell_type": "code",
   "execution_count": null,
   "metadata": {},
   "outputs": [],
   "source": [
    "vandermonde = test(VandermondeELM, neurons_number=1800, transpose=False, drop_ones=False)\n",
    "real_low_45 = test(LowRankELM, neurons_number=1800, ranks=[45])\n",
    "real_low_27 = test(LowRankELM, neurons_number=1800, ranks=[27])"
   ]
  },
  {
   "cell_type": "code",
   "execution_count": 16,
   "metadata": {},
   "outputs": [],
   "source": [
    "with open(\"forest/losers_temp.p\", \"wb\") as file:\n",
    "    pickle.dump([vandermonde, real_low_45, real_low_27], file)"
   ]
  },
  {
   "cell_type": "markdown",
   "metadata": {},
   "source": [
    "# Results for Figures 4.4, 4.5 and Table 4.2"
   ]
  },
  {
   "cell_type": "code",
   "execution_count": 8,
   "metadata": {},
   "outputs": [],
   "source": [
    "with open(\"forest/results.p\", \"rb\") as file:\n",
    "    [neurons, hpelm_scores, classical_scores, t_scores, c_scores, fastfood_scores, \n",
    "     low_rank] = pickle.load(file)"
   ]
  },
  {
   "cell_type": "code",
   "execution_count": 9,
   "metadata": {},
   "outputs": [],
   "source": [
    "with open(\"forest/losers.p\", \"rb\") as file:\n",
    "    [vandermonde, real_low_45, real_low_27] = pickle.load(file)"
   ]
  },
  {
   "cell_type": "markdown",
   "metadata": {},
   "source": [
    "## Figures 4.4, 4.5 and results for Table 4.2"
   ]
  },
  {
   "cell_type": "code",
   "execution_count": 10,
   "metadata": {},
   "outputs": [
    {
     "name": "stderr",
     "output_type": "stream",
     "text": [
      "The PostScript backend does not support transparency; partially transparent artists will be rendered opaque.\n",
      "The PostScript backend does not support transparency; partially transparent artists will be rendered opaque.\n",
      "The PostScript backend does not support transparency; partially transparent artists will be rendered opaque.\n",
      "The PostScript backend does not support transparency; partially transparent artists will be rendered opaque.\n",
      "The PostScript backend does not support transparency; partially transparent artists will be rendered opaque.\n",
      "The PostScript backend does not support transparency; partially transparent artists will be rendered opaque.\n",
      "The PostScript backend does not support transparency; partially transparent artists will be rendered opaque.\n",
      "The PostScript backend does not support transparency; partially transparent artists will be rendered opaque.\n",
      "The PostScript backend does not support transparency; partially transparent artists will be rendered opaque.\n",
      "The PostScript backend does not support transparency; partially transparent artists will be rendered opaque.\n",
      "The PostScript backend does not support transparency; partially transparent artists will be rendered opaque.\n",
      "The PostScript backend does not support transparency; partially transparent artists will be rendered opaque.\n"
     ]
    },
    {
     "data": {
      "image/png": "[encoded data removed]",
      "text/plain": [
       "<Figure size 340.157x170.079 with 1 Axes>"
      ]
     },
     "metadata": {
      "needs_background": "light"
     },
     "output_type": "display_data"
    },
    {
     "data": {
      "image/png": "[encoded data removed]",
      "text/plain": [
       "<Figure size 340.157x141.732 with 1 Axes>"
      ]
     },
     "metadata": {
      "needs_background": "light"
     },
     "output_type": "display_data"
    },
    {
     "data": {
      "text/plain": [
       "<Figure size 340.157x141.732 with 0 Axes>"
      ]
     },
     "metadata": {},
     "output_type": "display_data"
    },
    {
     "data": {
      "image/png": "[encoded data removed]",
      "text/plain": [
       "<Figure size 340.157x141.732 with 1 Axes>"
      ]
     },
     "metadata": {
      "needs_background": "light"
     },
     "output_type": "display_data"
    }
   ],
   "source": [
    "def getAllMeansAndStd(many_scores):\n",
    "    means = []\n",
    "    stds = []\n",
    "    for scores in many_scores:\n",
    "        (mean, std) = getMeansAndStd(scores)\n",
    "        means.append(mean)\n",
    "        stds.append(std)\n",
    "    return (np.asarray(means), np.asarray(stds))\n",
    "\n",
    "def getMeansAndStd(scores):\n",
    "    scores = np.asarray(scores)\n",
    "    mean = np.mean(scores, axis=-1)\n",
    "    std = np.std(scores, axis=-1)\n",
    "    return (mean, std)\n",
    "\n",
    "start = 0\n",
    "def plot_scores(scores, neurons, label, start=start, test=True):\n",
    "    (mean, std) = getMeansAndStd(scores)\n",
    "    plt.errorbar(neurons[start:], mean[start:, int(test)], std[start:, int(test)], label=label)\n",
    "\n",
    "figure = plt.figure(figsize=(12/2.54, 6/2.54))\n",
    "plt.rcParams.update({'font.size': 8})\n",
    "\n",
    "plot_scores(classical_scores[:], neurons[:], \"Classical ELM\")\n",
    "\n",
    "plot_scores(t_scores[:], neurons[:], \"Toeplitz ELM\")\n",
    "\n",
    "plot_scores(c_scores[:], neurons[:], \"Circulant ELM\")\n",
    "\n",
    "plot_scores(fastfood_scores[:], neurons[:], \"Fastfood ELM\")\n",
    "\n",
    "plot_scores(low_rank[:], neurons[:], \"Toeplitz-like ELM\")\n",
    "\n",
    "plot_scores(hpelm_scores[:], neurons[:], \"HP-ELM\")\n",
    "\n",
    "\n",
    "plt.title(\"Forest Dataset Test Accuracy Score\")\n",
    "plt.xlabel(\"Number of Neurons in Hidden Layer\")\n",
    "plt.ylabel(\"Accuracy Score\")\n",
    "\n",
    "plt.xticks(neurons[start:])\n",
    "plt.legend()\n",
    "plt.grid(True)\n",
    "\n",
    "plt.subplots_adjust(top = 1, bottom = 0, right = 1, left = 0, \n",
    "            hspace = 0, wspace = 0)\n",
    "\n",
    "plt.savefig(\"forest/for_score_test.eps\", format='eps', bbox_inches = 'tight',\n",
    "    pad_inches = 0)\n",
    "\n",
    "figure = plt.figure(figsize=(12/2.54, 5/2.54))\n",
    "plt.rcParams.update({'font.size': 8})\n",
    "\n",
    "plot_scores(classical_scores[:], neurons[:], \"Classical ELM\", test=False)\n",
    "\n",
    "plot_scores(t_scores[:], neurons[:], \"Toeplitz ELM\", test=False)\n",
    "\n",
    "plot_scores(c_scores[:], neurons[:], \"Circulant ELM\", test=False)\n",
    "\n",
    "plot_scores(fastfood_scores[:], neurons[:], \"Fastfood ELM\", test=False)\n",
    "\n",
    "plot_scores(low_rank[:], neurons[:], \"Toeplitz-like ELM\", test=False)\n",
    "\n",
    "plot_scores(hpelm_scores[:], neurons[:], \"HP-ELM\", test=False)\n",
    "\n",
    "plt.title(\"Forest Dataset Training Accuracy Score\")\n",
    "plt.xlabel(\"Number of Neurons in Hidden Layer\")\n",
    "plt.ylabel(\"Accuracy Score\")\n",
    "\n",
    "plt.xticks(neurons[start:])\n",
    "plt.legend()\n",
    "plt.grid(True)\n",
    "\n",
    "plt.subplots_adjust(top = 1, bottom = 0, right = 1, left = 0, \n",
    "            hspace = 0, wspace = 0)\n",
    "\n",
    "plt.savefig(\"forest/for_score_train.eps\", format='eps', bbox_inches = 'tight',\n",
    "    pad_inches = 0)\n",
    "\n",
    "figure = plt.figure(figsize=(12/2.54, 5/2.54))\n",
    "plt.rcParams.update({'font.size': 8})\n",
    "\n",
    "table = []\n",
    "number = -1\n",
    "\n",
    "results = [hpelm_scores[number], classical_scores[number], fastfood_scores[number], low_rank[number], \n",
    "           t_scores[number], c_scores[number], real_low_45, real_low_27]\n",
    "names = [\"HP-ELM\", \"Classical\", \"Fastfood\", \"Toeplitz-\\n-like \\n D. Rank 2\",\n",
    "             \"Toeplitz\", \"Circulant\",\"Low-\\n-Rank \\n Rank 45\", \"Low-\\n-Rank \\n Rank 27\"]\n",
    "(means, stds) = getAllMeansAndStd(results)\n",
    "\n",
    "for i in range(len(names)):\n",
    "    table.append([names[i], means[i], stds[i]])\n",
    "\n",
    "figure = plt.figure(figsize=(12/2.54, 5/2.54))\n",
    "plt.rcParams.update({'font.size': 8})\n",
    "\n",
    "plt.errorbar(names, means[:, 1], stds[:, 1], label=\"Testing\")\n",
    "plt.errorbar(names, means[:, 0], stds[:, 0], label=\"Training\")\n",
    "\n",
    "plt.title(\"Forest Dataset Results for 1800 Neurons in Hidden Layer\") ##!!!!!!!!!!!!\n",
    "plt.ylabel(\"Accuracy Score\")\n",
    "plt.xlabel(\"ELM Types\")\n",
    "plt.grid(True)\n",
    "plt.legend()  \n",
    "\n",
    "plt.subplots_adjust(top = 1, bottom = 0, right = 1, left = 0, \n",
    "            hspace = 0, wspace = 0)\n",
    "plt.savefig(\"forest/for_score_1800.eps\", format='eps', bbox_inches = 'tight',\n",
    "    pad_inches = 0)\n",
    "\n",
    "results = [vandermonde]\n",
    "names = [\"Vandermonde\"]\n",
    "(means, stds) = getAllMeansAndStd(results)\n",
    "for i in range(len(names)):\n",
    "    table.append([names[i], means[i], stds[i]])"
   ]
  },
  {
   "cell_type": "markdown",
   "metadata": {},
   "source": [
    "## Table 4.2"
   ]
  },
  {
   "cell_type": "code",
   "execution_count": 11,
   "metadata": {},
   "outputs": [
    {
     "data": {
      "text/plain": [
       "[['HP-ELM', array([0.83487083, 0.82767997]), array([0.00118532, 0.00115623])],\n",
       " ['Classical',\n",
       "  array([0.83157083, 0.8247982 ]),\n",
       "  array([0.00094968, 0.00084375])],\n",
       " ['Fastfood',\n",
       "  array([0.8316725 , 0.82504179]),\n",
       "  array([0.00071279, 0.0007644 ])],\n",
       " ['Toeplitz-\\n-like \\n D. Rank 2',\n",
       "  array([0.8310525 , 0.82431554]),\n",
       "  array([0.00129665, 0.00123598])],\n",
       " ['Toeplitz',\n",
       "  array([0.8317025 , 0.82477932]),\n",
       "  array([0.00055142, 0.00070901])],\n",
       " ['Circulant',\n",
       "  array([0.83167333, 0.82483822]),\n",
       "  array([0.00120685, 0.00090107])],\n",
       " ['Low-\\n-Rank \\n Rank 45',\n",
       "  array([0.8309675 , 0.82444253]),\n",
       "  array([0.00144993, 0.00118447])],\n",
       " ['Low-\\n-Rank \\n Rank 27',\n",
       "  array([0.8299275 , 0.82301464]),\n",
       "  array([0.00125027, 0.00116516])],\n",
       " ['Vandermonde',\n",
       "  array([0.74259583, 0.7390105 ]),\n",
       "  array([0.00946249, 0.00955222])]]"
      ]
     },
     "execution_count": 11,
     "metadata": {},
     "output_type": "execute_result"
    }
   ],
   "source": [
    "table"
   ]
  },
  {
   "cell_type": "markdown",
   "metadata": {},
   "source": [
    "# Train with differents s (deviation = s / sqrt(number of inputs))\n",
    "## Not part of the thesis\n",
    "### Execution will take much time!"
   ]
  },
  {
   "cell_type": "code",
   "execution_count": 9,
   "metadata": {},
   "outputs": [
    {
     "name": "stdout",
     "output_type": "stream",
     "text": [
      "1/3 Training score: 0.8193. Testing score: 0.8136\n",
      "2/3 Training score: 0.8197. Testing score: 0.8145\n",
      "3/3 Training score: 0.8204. Testing score: 0.8143\n"
     ]
    },
    {
     "name": "stderr",
     "output_type": "stream",
     "text": [
      "/Users/russii/opt/anaconda3/lib/python3.7/site-packages/sklearn/linear_model/_ridge.py:148: LinAlgWarning: Ill-conditioned matrix (rcond=1.05215e-09): result may not be accurate.\n",
      "  overwrite_a=True).T\n",
      "/Users/russii/opt/anaconda3/lib/python3.7/site-packages/sklearn/linear_model/_ridge.py:148: LinAlgWarning: Ill-conditioned matrix (rcond=1.05215e-09): result may not be accurate.\n",
      "  overwrite_a=True).T\n"
     ]
    },
    {
     "name": "stdout",
     "output_type": "stream",
     "text": [
      "1/3 Training score: 0.8199. Testing score: 0.8143\n"
     ]
    },
    {
     "name": "stderr",
     "output_type": "stream",
     "text": [
      "/Users/russii/opt/anaconda3/lib/python3.7/site-packages/sklearn/linear_model/_ridge.py:148: LinAlgWarning: Ill-conditioned matrix (rcond=9.37712e-10): result may not be accurate.\n",
      "  overwrite_a=True).T\n",
      "/Users/russii/opt/anaconda3/lib/python3.7/site-packages/sklearn/linear_model/_ridge.py:148: LinAlgWarning: Ill-conditioned matrix (rcond=9.37712e-10): result may not be accurate.\n",
      "  overwrite_a=True).T\n"
     ]
    },
    {
     "name": "stdout",
     "output_type": "stream",
     "text": [
      "2/3 Training score: 0.8223. Testing score: 0.8161\n"
     ]
    },
    {
     "name": "stderr",
     "output_type": "stream",
     "text": [
      "/Users/russii/opt/anaconda3/lib/python3.7/site-packages/sklearn/linear_model/_ridge.py:148: LinAlgWarning: Ill-conditioned matrix (rcond=1.23668e-09): result may not be accurate.\n",
      "  overwrite_a=True).T\n",
      "/Users/russii/opt/anaconda3/lib/python3.7/site-packages/sklearn/linear_model/_ridge.py:148: LinAlgWarning: Ill-conditioned matrix (rcond=1.23668e-09): result may not be accurate.\n",
      "  overwrite_a=True).T\n"
     ]
    },
    {
     "name": "stdout",
     "output_type": "stream",
     "text": [
      "3/3 Training score: 0.8215. Testing score: 0.8157\n"
     ]
    },
    {
     "name": "stderr",
     "output_type": "stream",
     "text": [
      "/Users/russii/opt/anaconda3/lib/python3.7/site-packages/sklearn/linear_model/_ridge.py:148: LinAlgWarning: Ill-conditioned matrix (rcond=5.13949e-09): result may not be accurate.\n",
      "  overwrite_a=True).T\n",
      "/Users/russii/opt/anaconda3/lib/python3.7/site-packages/sklearn/linear_model/_ridge.py:148: LinAlgWarning: Ill-conditioned matrix (rcond=5.13949e-09): result may not be accurate.\n",
      "  overwrite_a=True).T\n"
     ]
    },
    {
     "name": "stdout",
     "output_type": "stream",
     "text": [
      "1/3 Training score: 0.821. Testing score: 0.8156\n"
     ]
    },
    {
     "name": "stderr",
     "output_type": "stream",
     "text": [
      "/Users/russii/opt/anaconda3/lib/python3.7/site-packages/sklearn/linear_model/_ridge.py:148: LinAlgWarning: Ill-conditioned matrix (rcond=5.60093e-09): result may not be accurate.\n",
      "  overwrite_a=True).T\n",
      "/Users/russii/opt/anaconda3/lib/python3.7/site-packages/sklearn/linear_model/_ridge.py:148: LinAlgWarning: Ill-conditioned matrix (rcond=5.60093e-09): result may not be accurate.\n",
      "  overwrite_a=True).T\n"
     ]
    },
    {
     "name": "stdout",
     "output_type": "stream",
     "text": [
      "2/3 Training score: 0.8213. Testing score: 0.8159\n"
     ]
    },
    {
     "name": "stderr",
     "output_type": "stream",
     "text": [
      "/Users/russii/opt/anaconda3/lib/python3.7/site-packages/sklearn/linear_model/_ridge.py:148: LinAlgWarning: Ill-conditioned matrix (rcond=4.81239e-09): result may not be accurate.\n",
      "  overwrite_a=True).T\n",
      "/Users/russii/opt/anaconda3/lib/python3.7/site-packages/sklearn/linear_model/_ridge.py:148: LinAlgWarning: Ill-conditioned matrix (rcond=4.81239e-09): result may not be accurate.\n",
      "  overwrite_a=True).T\n"
     ]
    },
    {
     "name": "stdout",
     "output_type": "stream",
     "text": [
      "3/3 Training score: 0.8215. Testing score: 0.8163\n"
     ]
    },
    {
     "name": "stderr",
     "output_type": "stream",
     "text": [
      "/Users/russii/opt/anaconda3/lib/python3.7/site-packages/sklearn/linear_model/_ridge.py:148: LinAlgWarning: Ill-conditioned matrix (rcond=1.36291e-08): result may not be accurate.\n",
      "  overwrite_a=True).T\n",
      "/Users/russii/opt/anaconda3/lib/python3.7/site-packages/sklearn/linear_model/_ridge.py:148: LinAlgWarning: Ill-conditioned matrix (rcond=1.36291e-08): result may not be accurate.\n",
      "  overwrite_a=True).T\n"
     ]
    },
    {
     "name": "stdout",
     "output_type": "stream",
     "text": [
      "1/3 Training score: 0.8219. Testing score: 0.8155\n"
     ]
    },
    {
     "name": "stderr",
     "output_type": "stream",
     "text": [
      "/Users/russii/opt/anaconda3/lib/python3.7/site-packages/sklearn/linear_model/_ridge.py:148: LinAlgWarning: Ill-conditioned matrix (rcond=1.88471e-08): result may not be accurate.\n",
      "  overwrite_a=True).T\n",
      "/Users/russii/opt/anaconda3/lib/python3.7/site-packages/sklearn/linear_model/_ridge.py:148: LinAlgWarning: Ill-conditioned matrix (rcond=1.88471e-08): result may not be accurate.\n",
      "  overwrite_a=True).T\n"
     ]
    },
    {
     "name": "stdout",
     "output_type": "stream",
     "text": [
      "2/3 Training score: 0.8209. Testing score: 0.8154\n"
     ]
    },
    {
     "name": "stderr",
     "output_type": "stream",
     "text": [
      "/Users/russii/opt/anaconda3/lib/python3.7/site-packages/sklearn/linear_model/_ridge.py:148: LinAlgWarning: Ill-conditioned matrix (rcond=1.44842e-08): result may not be accurate.\n",
      "  overwrite_a=True).T\n",
      "/Users/russii/opt/anaconda3/lib/python3.7/site-packages/sklearn/linear_model/_ridge.py:148: LinAlgWarning: Ill-conditioned matrix (rcond=1.44842e-08): result may not be accurate.\n",
      "  overwrite_a=True).T\n"
     ]
    },
    {
     "name": "stdout",
     "output_type": "stream",
     "text": [
      "3/3 Training score: 0.8214. Testing score: 0.8144\n"
     ]
    },
    {
     "name": "stderr",
     "output_type": "stream",
     "text": [
      "/Users/russii/opt/anaconda3/lib/python3.7/site-packages/sklearn/linear_model/_ridge.py:148: LinAlgWarning: Ill-conditioned matrix (rcond=3.02584e-08): result may not be accurate.\n",
      "  overwrite_a=True).T\n",
      "/Users/russii/opt/anaconda3/lib/python3.7/site-packages/sklearn/linear_model/_ridge.py:148: LinAlgWarning: Ill-conditioned matrix (rcond=3.02584e-08): result may not be accurate.\n",
      "  overwrite_a=True).T\n"
     ]
    },
    {
     "name": "stdout",
     "output_type": "stream",
     "text": [
      "1/3 Training score: 0.8202. Testing score: 0.8146\n"
     ]
    },
    {
     "name": "stderr",
     "output_type": "stream",
     "text": [
      "/Users/russii/opt/anaconda3/lib/python3.7/site-packages/sklearn/linear_model/_ridge.py:148: LinAlgWarning: Ill-conditioned matrix (rcond=4.18814e-08): result may not be accurate.\n",
      "  overwrite_a=True).T\n",
      "/Users/russii/opt/anaconda3/lib/python3.7/site-packages/sklearn/linear_model/_ridge.py:148: LinAlgWarning: Ill-conditioned matrix (rcond=4.18814e-08): result may not be accurate.\n",
      "  overwrite_a=True).T\n"
     ]
    },
    {
     "name": "stdout",
     "output_type": "stream",
     "text": [
      "2/3 Training score: 0.8219. Testing score: 0.815\n"
     ]
    },
    {
     "name": "stderr",
     "output_type": "stream",
     "text": [
      "/Users/russii/opt/anaconda3/lib/python3.7/site-packages/sklearn/linear_model/_ridge.py:148: LinAlgWarning: Ill-conditioned matrix (rcond=3.60301e-08): result may not be accurate.\n",
      "  overwrite_a=True).T\n",
      "/Users/russii/opt/anaconda3/lib/python3.7/site-packages/sklearn/linear_model/_ridge.py:148: LinAlgWarning: Ill-conditioned matrix (rcond=3.60301e-08): result may not be accurate.\n",
      "  overwrite_a=True).T\n"
     ]
    },
    {
     "name": "stdout",
     "output_type": "stream",
     "text": [
      "3/3 Training score: 0.818. Testing score: 0.8126\n"
     ]
    }
   ],
   "source": [
    "results = []\n",
    "results.append(test(ClassicELM, s=1, trial_number=3, alpha=1e-9, neurons_number=1200))\n",
    "results.append(test(ClassicELM, s=2, trial_number=3, alpha=1e-9, neurons_number=1200))\n",
    "results.append(test(ClassicELM, s=3, trial_number=3, alpha=1e-9, neurons_number=1200))\n",
    "results.append(test(ClassicELM, s=4, trial_number=3, alpha=1e-9, neurons_number=1200))\n",
    "results.append(test(ClassicELM, s=5, trial_number=3, alpha=1e-9, neurons_number=1200))"
   ]
  },
  {
   "cell_type": "code",
   "execution_count": null,
   "metadata": {},
   "outputs": [],
   "source": [
    "axis = [1, 2, 3, 4, 5]\n",
    "save = [axis, results]\n",
    "with open(f\"forest/s_temp.p\", \"wb\") as file:\n",
    "        pickle.dump(save, file)"
   ]
  },
  {
   "cell_type": "markdown",
   "metadata": {},
   "source": [
    "## Results for different s"
   ]
  },
  {
   "cell_type": "code",
   "execution_count": 12,
   "metadata": {},
   "outputs": [],
   "source": [
    "with open(f\"forest/s.p\", \"rb\") as file:\n",
    "        [axis, results] = pickle.load(file)                "
   ]
  },
  {
   "cell_type": "code",
   "execution_count": 13,
   "metadata": {},
   "outputs": [
    {
     "data": {
      "text/plain": [
       "Text(0, 0.5, 'Accuracy score')"
      ]
     },
     "execution_count": 13,
     "metadata": {},
     "output_type": "execute_result"
    },
    {
     "data": {
      "image/png": "[encoded data removed]",
      "text/plain": [
       "<Figure size 432x288 with 1 Axes>"
      ]
     },
     "metadata": {
      "needs_background": "light"
     },
     "output_type": "display_data"
    }
   ],
   "source": [
    "np_results = np.asarray(results)\n",
    "plt.errorbar(axis, np.mean(np_results, axis=-1)[:, 1], np.std(np_results, axis=-1)[:, 1], label=\"Testing\")\n",
    "plt.errorbar(axis, np.mean(np_results, axis=-1)[:, 0], np.std(np_results, axis=-1)[:, 0], label=\"Training\")\n",
    "plt.xticks(axis)\n",
    "plt.legend()\n",
    "plt.title(\"Forest Accuracy Score by 12000 neurons\")\n",
    "plt.xlabel(\"s\")\n",
    "plt.ylabel(\"Accuracy score\")"
   ]
  },
  {
   "cell_type": "code",
   "execution_count": null,
   "metadata": {},
   "outputs": [],
   "source": []
  }
 ],
 "metadata": {
  "kernelspec": {
   "display_name": "Python 3",
   "language": "python",
   "name": "python3"
  },
  "language_info": {
   "codemirror_mode": {
    "name": "ipython",
    "version": 3
   },
   "file_extension": ".py",
   "mimetype": "text/x-python",
   "name": "python",
   "nbconvert_exporter": "python",
   "pygments_lexer": "ipython3",
   "version": "3.7.6"
  }
 },
 "nbformat": 4,
 "nbformat_minor": 4
}
