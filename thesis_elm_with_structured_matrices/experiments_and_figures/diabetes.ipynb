{
 "cells": [
  {
   "cell_type": "markdown",
   "metadata": {},
   "source": [
    "# Diabetes experiment"
   ]
  },
  {
   "cell_type": "code",
   "execution_count": 1,
   "metadata": {},
   "outputs": [],
   "source": [
    "import pandas as pd\n",
    "import numpy as np\n",
    "import statistics\n",
    "from sklearn.model_selection import train_test_split\n",
    "from sklearn.preprocessing import StandardScaler, MinMaxScaler\n",
    "from sklearn.metrics import accuracy_score\n",
    "import sys\n",
    "sys.path.append('../../')\n",
    "from src.elm.elms import ClassicELM, ToeplitzELM, CirculantELM, FastFoodELM, ToeplitzLikeELM, VandermondeELM, LowRankELM\n",
    "import hpelm\n",
    "import pickle\n",
    "import matplotlib.pyplot as plt\n",
    "from tensorflow.keras.initializers import RandomNormal"
   ]
  },
  {
   "cell_type": "markdown",
   "metadata": {},
   "source": [
    "# Preprocessing"
   ]
  },
  {
   "cell_type": "code",
   "execution_count": 2,
   "metadata": {},
   "outputs": [
    {
     "name": "stderr",
     "output_type": "stream",
     "text": [
      "/Users/russii/opt/anaconda3/lib/python3.7/site-packages/ipykernel_launcher.py:5: SettingWithCopyWarning: \n",
      "A value is trying to be set on a copy of a slice from a DataFrame\n",
      "\n",
      "See the caveats in the documentation: https://pandas.pydata.org/pandas-docs/stable/user_guide/indexing.html#returning-a-view-versus-a-copy\n",
      "  \"\"\"\n"
     ]
    }
   ],
   "source": [
    "# Load data\n",
    "diabetes_dataset = pd.read_csv(\"../datasets/diabetes.csv\")\n",
    "y = diabetes_dataset.Outcome\n",
    "# y = np.expand_dims(y, -1)\n",
    "y[y == 0] = -1\n",
    "\n",
    "x = diabetes_dataset.drop(\"Outcome\", axis=1)"
   ]
  },
  {
   "cell_type": "code",
   "execution_count": 3,
   "metadata": {},
   "outputs": [],
   "source": [
    "# Split data\n",
    "x_train, x_test, y_train, y_test = train_test_split(x, y, test_size=0.25, \n",
    "                                                            shuffle=True, random_state=42, stratify=y)\n",
    "y_train_hp = np.expand_dims(y_train, -1)\n",
    "y_test_hp = np.expand_dims(y_test, -1)"
   ]
  },
  {
   "cell_type": "code",
   "execution_count": 4,
   "metadata": {},
   "outputs": [
    {
     "name": "stdout",
     "output_type": "stream",
     "text": [
      "Percentage of negative result is 0.6510416666666666\n"
     ]
    }
   ],
   "source": [
    "print(f\"Percentage of negative result is {y[y==-1].shape[0] / y.shape[0]}\")"
   ]
  },
  {
   "cell_type": "code",
   "execution_count": 5,
   "metadata": {},
   "outputs": [],
   "source": [
    "# Scale\n",
    "scaler = StandardScaler(copy=False, with_mean=True, with_std=True)\n",
    "x_train = scaler.fit_transform(x_train)\n",
    "x_test = scaler.transform(x_test)"
   ]
  },
  {
   "cell_type": "code",
   "execution_count": 6,
   "metadata": {},
   "outputs": [],
   "source": [
    "x=None\n",
    "y=None\n",
    "scaler=None\n",
    "diabetes_dataset=None"
   ]
  },
  {
   "cell_type": "markdown",
   "metadata": {},
   "source": [
    "# Train method"
   ]
  },
  {
   "cell_type": "code",
   "execution_count": 7,
   "metadata": {},
   "outputs": [],
   "source": [
    "def test(elm_class, neurons_number=20, use_bias=True, trial_number=50, print_every=10,\n",
    "                  kernel_initializer=\"glorot_uniform\", bias_initializer=\"glorot_uniform\",\n",
    "                 regression_tool=\"ridge_sklearn\", alpha=1e-9, **kwargs):\n",
    "    training_score = []\n",
    "    testing_score = []\n",
    "    \n",
    "    stddev = 1 / (x_train[0].shape[0] ** 0.5)\n",
    "    for i in range(trial_number):\n",
    "        elm = elm_class(hidden_neurons=[neurons_number], is_classifier=True, activation=\"sigmoid\", input_shape=x_train[0].shape, use_bias=True,\n",
    "                     kernel_initializer=RandomNormal(0, stddev), bias_initializer=RandomNormal(0, 1), dev=stddev, **kwargs)\n",
    "        elm.fit(x_train, y_train, regression_tool=regression_tool, alpha=alpha)\n",
    "        training_score.append(elm.calculate_classification_accuracy(x_train, y_train))\n",
    "        testing_score.append(elm.calculate_classification_accuracy(x_test, y_test))\n",
    "        if (i + 1) % print_every == 0:\n",
    "            print(f\"{i + 1}/{trial_number} Training score: {training_score[i]:.{4}}. \"\n",
    "                  f\"Testing score: {testing_score[i]:.{4}}\")\n",
    "    return [training_score, testing_score]\n",
    "\n",
    "def test_hpelm(neurons_number=50, trial_number=50, print_every=10):\n",
    "    hpelm_training_rmse = []\n",
    "    hpelm_testing_rmse = []\n",
    "    for i in range(trial_number):\n",
    "        elm = hpelm.ELM(x_train.shape[1], y_train_hp.shape[1])\n",
    "        elm.add_neurons(neurons_number, \"sigm\")\n",
    "        elm.train(x_train, y_train_hp)\n",
    "        hpelm_training_rmse.append(accuracy_score(y_train_hp > 0, elm.predict(x_train) > 0))\n",
    "        hpelm_testing_rmse.append(accuracy_score(y_test_hp > 0, elm.predict(x_test) > 0))\n",
    "        if(i + 1) % print_every == 0:\n",
    "            print(f\"{i + 1}/{trial_number} Training RMSE: {hpelm_training_rmse[i]:.{4}}. Testing RMSE: {hpelm_testing_rmse[i]:.{4}}\")\n",
    "    return [hpelm_training_rmse, hpelm_testing_rmse]       \n",
    "    \n",
    "\n",
    "def print_result(name, training_score, testing_score):\n",
    "    print(name)\n",
    "    print(f\"Training Score: {statistics.mean(training_score):.{4}}\")\n",
    "    print(f\"Testing Score: {statistics.mean(testing_score):.{4}}\")"
   ]
  },
  {
   "cell_type": "markdown",
   "metadata": {},
   "source": [
    "# Train the best ELMs\n",
    "### Execution will take much time!"
   ]
  },
  {
   "cell_type": "code",
   "execution_count": 8,
   "metadata": {},
   "outputs": [],
   "source": [
    "classical_scores = []\n",
    "t_scores = []\n",
    "c_scores = []\n",
    "hpelm_scores = []\n",
    "\n",
    "fastfood_scores = []\n",
    "low_rank = []\n",
    "\n",
    "neurons = []"
   ]
  },
  {
   "cell_type": "code",
   "execution_count": 18,
   "metadata": {},
   "outputs": [
    {
     "name": "stdout",
     "output_type": "stream",
     "text": [
      "Neurons: 22\n",
      "Hpelm\n",
      "10/50 Training RMSE: 0.783. Testing RMSE: 0.7135\n",
      "20/50 Training RMSE: 0.783. Testing RMSE: 0.7292\n",
      "30/50 Training RMSE: 0.7795. Testing RMSE: 0.7292\n",
      "40/50 Training RMSE: 0.7917. Testing RMSE: 0.7135\n",
      "50/50 Training RMSE: 0.7951. Testing RMSE: 0.7083\n",
      "My classical ELM\n",
      "10/50 Training score: 0.8021. Testing score: 0.7292\n",
      "20/50 Training score: 0.7899. Testing score: 0.7604\n",
      "30/50 Training score: 0.7969. Testing score: 0.724\n",
      "40/50 Training score: 0.7882. Testing score: 0.75\n",
      "50/50 Training score: 0.7986. Testing score: 0.7396\n",
      "Toeplitz ELM\n",
      "10/50 Training score: 0.7882. Testing score: 0.7604\n",
      "20/50 Training score: 0.7899. Testing score: 0.7448\n",
      "30/50 Training score: 0.7899. Testing score: 0.7292\n",
      "40/50 Training score: 0.7986. Testing score: 0.7396\n",
      "50/50 Training score: 0.7951. Testing score: 0.724\n",
      "Ciculant ELM\n",
      "10/50 Training score: 0.7951. Testing score: 0.7344\n",
      "20/50 Training score: 0.8003. Testing score: 0.7135\n",
      "30/50 Training score: 0.7882. Testing score: 0.7448\n",
      "40/50 Training score: 0.7951. Testing score: 0.75\n",
      "50/50 Training score: 0.7882. Testing score: 0.724\n",
      "Fastfood ELM\n",
      "10/50 Training score: 0.8038. Testing score: 0.7552\n",
      "20/50 Training score: 0.783. Testing score: 0.7344\n",
      "30/50 Training score: 0.7917. Testing score: 0.7292\n",
      "40/50 Training score: 0.8003. Testing score: 0.75\n",
      "50/50 Training score: 0.7882. Testing score: 0.7396\n",
      "LowRank ELM\n",
      "10/50 Training score: 0.8003. Testing score: 0.7448\n",
      "20/50 Training score: 0.7969. Testing score: 0.7552\n",
      "30/50 Training score: 0.7934. Testing score: 0.7396\n",
      "40/50 Training score: 0.7812. Testing score: 0.7448\n",
      "50/50 Training score: 0.7899. Testing score: 0.7448\n",
      "Neurons: 24\n",
      "Hpelm\n",
      "10/50 Training RMSE: 0.7882. Testing RMSE: 0.7448\n",
      "20/50 Training RMSE: 0.7934. Testing RMSE: 0.7344\n",
      "30/50 Training RMSE: 0.7795. Testing RMSE: 0.7396\n",
      "40/50 Training RMSE: 0.7899. Testing RMSE: 0.7396\n",
      "50/50 Training RMSE: 0.7795. Testing RMSE: 0.7344\n",
      "My classical ELM\n",
      "10/50 Training score: 0.8021. Testing score: 0.7604\n",
      "20/50 Training score: 0.7812. Testing score: 0.7344\n",
      "30/50 Training score: 0.8021. Testing score: 0.7604\n",
      "40/50 Training score: 0.7917. Testing score: 0.7292\n",
      "50/50 Training score: 0.7917. Testing score: 0.724\n",
      "Toeplitz ELM\n",
      "10/50 Training score: 0.7882. Testing score: 0.7448\n",
      "20/50 Training score: 0.7899. Testing score: 0.724\n",
      "30/50 Training score: 0.7917. Testing score: 0.7448\n",
      "40/50 Training score: 0.7917. Testing score: 0.7031\n",
      "50/50 Training score: 0.8038. Testing score: 0.7656\n",
      "Ciculant ELM\n",
      "10/50 Training score: 0.7951. Testing score: 0.75\n",
      "20/50 Training score: 0.8108. Testing score: 0.7135\n",
      "30/50 Training score: 0.7951. Testing score: 0.724\n",
      "40/50 Training score: 0.8056. Testing score: 0.7292\n",
      "50/50 Training score: 0.783. Testing score: 0.7448\n",
      "Fastfood ELM\n",
      "10/50 Training score: 0.7743. Testing score: 0.75\n",
      "20/50 Training score: 0.7934. Testing score: 0.7552\n",
      "30/50 Training score: 0.7882. Testing score: 0.7344\n",
      "40/50 Training score: 0.7899. Testing score: 0.7396\n",
      "50/50 Training score: 0.776. Testing score: 0.724\n",
      "LowRank ELM\n",
      "10/50 Training score: 0.7899. Testing score: 0.7344\n",
      "20/50 Training score: 0.7934. Testing score: 0.7344\n",
      "30/50 Training score: 0.7882. Testing score: 0.7604\n",
      "40/50 Training score: 0.7882. Testing score: 0.7344\n",
      "50/50 Training score: 0.783. Testing score: 0.7604\n",
      "Neurons: 26\n",
      "Hpelm\n",
      "10/50 Training RMSE: 0.7899. Testing RMSE: 0.724\n",
      "20/50 Training RMSE: 0.7969. Testing RMSE: 0.7135\n",
      "30/50 Training RMSE: 0.7969. Testing RMSE: 0.7344\n",
      "40/50 Training RMSE: 0.7708. Testing RMSE: 0.7031\n",
      "50/50 Training RMSE: 0.7882. Testing RMSE: 0.7135\n",
      "My classical ELM\n",
      "10/50 Training score: 0.7951. Testing score: 0.7135\n",
      "20/50 Training score: 0.7865. Testing score: 0.7292\n",
      "30/50 Training score: 0.8003. Testing score: 0.7188\n",
      "40/50 Training score: 0.7951. Testing score: 0.7188\n",
      "50/50 Training score: 0.809. Testing score: 0.7292\n",
      "Toeplitz ELM\n",
      "10/50 Training score: 0.7812. Testing score: 0.724\n",
      "20/50 Training score: 0.7795. Testing score: 0.7031\n",
      "30/50 Training score: 0.7917. Testing score: 0.7604\n",
      "40/50 Training score: 0.8056. Testing score: 0.7448\n",
      "50/50 Training score: 0.7882. Testing score: 0.7188\n",
      "Ciculant ELM\n",
      "10/50 Training score: 0.8056. Testing score: 0.7396\n",
      "20/50 Training score: 0.7882. Testing score: 0.7344\n",
      "30/50 Training score: 0.7847. Testing score: 0.75\n",
      "40/50 Training score: 0.7951. Testing score: 0.7396\n",
      "50/50 Training score: 0.7899. Testing score: 0.7344\n",
      "Fastfood ELM\n",
      "10/50 Training score: 0.7986. Testing score: 0.7552\n",
      "20/50 Training score: 0.7934. Testing score: 0.7448\n",
      "30/50 Training score: 0.8021. Testing score: 0.724\n",
      "40/50 Training score: 0.7951. Testing score: 0.7292\n",
      "50/50 Training score: 0.7969. Testing score: 0.7552\n",
      "LowRank ELM\n",
      "10/50 Training score: 0.783. Testing score: 0.7552\n",
      "20/50 Training score: 0.7899. Testing score: 0.75\n",
      "30/50 Training score: 0.7899. Testing score: 0.724\n",
      "40/50 Training score: 0.7882. Testing score: 0.7604\n",
      "50/50 Training score: 0.7882. Testing score: 0.7292\n",
      "Neurons: 28\n",
      "Hpelm\n",
      "10/50 Training RMSE: 0.7969. Testing RMSE: 0.7344\n",
      "20/50 Training RMSE: 0.7656. Testing RMSE: 0.724\n",
      "30/50 Training RMSE: 0.8003. Testing RMSE: 0.724\n",
      "40/50 Training RMSE: 0.7986. Testing RMSE: 0.7396\n",
      "50/50 Training RMSE: 0.7812. Testing RMSE: 0.7656\n",
      "My classical ELM\n",
      "10/50 Training score: 0.8003. Testing score: 0.7448\n",
      "20/50 Training score: 0.8021. Testing score: 0.7188\n",
      "30/50 Training score: 0.7899. Testing score: 0.7292\n",
      "40/50 Training score: 0.8056. Testing score: 0.7344\n",
      "50/50 Training score: 0.7986. Testing score: 0.724\n",
      "Toeplitz ELM\n",
      "10/50 Training score: 0.7969. Testing score: 0.7552\n",
      "20/50 Training score: 0.7899. Testing score: 0.7188\n",
      "30/50 Training score: 0.7969. Testing score: 0.7292\n",
      "40/50 Training score: 0.7951. Testing score: 0.7552\n",
      "50/50 Training score: 0.7899. Testing score: 0.7448\n",
      "Ciculant ELM\n",
      "10/50 Training score: 0.7969. Testing score: 0.7448\n",
      "20/50 Training score: 0.8142. Testing score: 0.7448\n",
      "30/50 Training score: 0.7917. Testing score: 0.7448\n",
      "40/50 Training score: 0.7986. Testing score: 0.724\n",
      "50/50 Training score: 0.8003. Testing score: 0.7396\n",
      "Fastfood ELM\n",
      "10/50 Training score: 0.7986. Testing score: 0.6927\n",
      "20/50 Training score: 0.7934. Testing score: 0.7396\n",
      "30/50 Training score: 0.7778. Testing score: 0.7604\n",
      "40/50 Training score: 0.7882. Testing score: 0.7292\n",
      "50/50 Training score: 0.7951. Testing score: 0.7344\n",
      "LowRank ELM\n",
      "10/50 Training score: 0.7951. Testing score: 0.7448\n",
      "20/50 Training score: 0.7934. Testing score: 0.7188\n",
      "30/50 Training score: 0.8108. Testing score: 0.7552\n",
      "40/50 Training score: 0.7812. Testing score: 0.7552\n",
      "50/50 Training score: 0.7865. Testing score: 0.7083\n",
      "Neurons: 30\n",
      "Hpelm\n",
      "10/50 Training RMSE: 0.7865. Testing RMSE: 0.776\n",
      "20/50 Training RMSE: 0.7899. Testing RMSE: 0.7448\n",
      "30/50 Training RMSE: 0.7934. Testing RMSE: 0.7344\n",
      "40/50 Training RMSE: 0.7708. Testing RMSE: 0.7135\n",
      "50/50 Training RMSE: 0.7882. Testing RMSE: 0.7396\n",
      "My classical ELM\n",
      "10/50 Training score: 0.7969. Testing score: 0.7292\n",
      "20/50 Training score: 0.7882. Testing score: 0.7188\n",
      "30/50 Training score: 0.7847. Testing score: 0.7396\n",
      "40/50 Training score: 0.809. Testing score: 0.7396\n",
      "50/50 Training score: 0.7934. Testing score: 0.7396\n",
      "Toeplitz ELM\n",
      "10/50 Training score: 0.8038. Testing score: 0.75\n",
      "20/50 Training score: 0.7917. Testing score: 0.7292\n",
      "30/50 Training score: 0.8073. Testing score: 0.7552\n",
      "40/50 Training score: 0.7969. Testing score: 0.7448\n",
      "50/50 Training score: 0.7899. Testing score: 0.7604\n",
      "Ciculant ELM\n",
      "10/50 Training score: 0.8021. Testing score: 0.7448\n",
      "20/50 Training score: 0.776. Testing score: 0.7448\n",
      "30/50 Training score: 0.7986. Testing score: 0.7292\n",
      "40/50 Training score: 0.8073. Testing score: 0.7135\n",
      "50/50 Training score: 0.7986. Testing score: 0.7604\n",
      "Fastfood ELM\n",
      "10/50 Training score: 0.7899. Testing score: 0.7604\n",
      "20/50 Training score: 0.7969. Testing score: 0.7292\n",
      "30/50 Training score: 0.7969. Testing score: 0.7344\n",
      "40/50 Training score: 0.7899. Testing score: 0.7188\n",
      "50/50 Training score: 0.7934. Testing score: 0.724\n",
      "LowRank ELM\n",
      "10/50 Training score: 0.8108. Testing score: 0.724\n",
      "20/50 Training score: 0.7934. Testing score: 0.7448\n",
      "30/50 Training score: 0.7865. Testing score: 0.7188\n",
      "40/50 Training score: 0.7917. Testing score: 0.7448\n",
      "50/50 Training score: 0.8003. Testing score: 0.75\n"
     ]
    }
   ],
   "source": [
    "for i in range(2, 15):\n",
    "    n = i * 2\n",
    "    neurons.append(n)\n",
    "    \n",
    "    print(f\"Neurons: {n}\")\n",
    "    \n",
    "    print(\"Hpelm\")\n",
    "    hpelm_scores.append(test_hpelm(neurons_number=n))\n",
    "    \n",
    "    print(\"My classical ELM\")\n",
    "    classical_scores.append(test(ClassicELM, neurons_number=n))\n",
    "    \n",
    "    print(\"Toeplitz ELM\")\n",
    "    t_scores.append(test(ToeplitzELM, neurons_number=n))\n",
    "\n",
    "    print(\"Ciculant ELM\")\n",
    "    c_scores.append(test(CirculantELM, neurons_number=n))\n",
    "    \n",
    "    print(\"Fastfood ELM\")\n",
    "    fastfood_scores.append(test(FastFoodELM, neurons_number=n))\n",
    "    \n",
    "    print(\"LowRank ELM\")\n",
    "    low_rank.append(test(ToeplitzLikeELM, neurons_number=n))"
   ]
  },
  {
   "cell_type": "code",
   "execution_count": 19,
   "metadata": {},
   "outputs": [],
   "source": [
    "result = [neurons, hpelm_scores, classical_scores, t_scores, c_scores, fastfood_scores, low_rank]\n",
    "with open(\"diabetes/results_temp.p\", \"wb\") as file:\n",
    "    pickle.dump(result, file)"
   ]
  },
  {
   "cell_type": "markdown",
   "metadata": {},
   "source": [
    "# Train bad ELMs\n",
    "### Execution will take much time!"
   ]
  },
  {
   "cell_type": "code",
   "execution_count": 55,
   "metadata": {},
   "outputs": [
    {
     "name": "stderr",
     "output_type": "stream",
     "text": [
      "/Users/russii/opt/anaconda3/lib/python3.7/site-packages/sklearn/linear_model/_ridge.py:148: LinAlgWarning: Ill-conditioned matrix (rcond=4.04538e-09): result may not be accurate.\n",
      "  overwrite_a=True).T\n",
      "/Users/russii/opt/anaconda3/lib/python3.7/site-packages/sklearn/linear_model/_ridge.py:148: LinAlgWarning: Ill-conditioned matrix (rcond=1.33142e-08): result may not be accurate.\n",
      "  overwrite_a=True).T\n",
      "/Users/russii/opt/anaconda3/lib/python3.7/site-packages/sklearn/linear_model/_ridge.py:148: LinAlgWarning: Ill-conditioned matrix (rcond=4.58637e-08): result may not be accurate.\n",
      "  overwrite_a=True).T\n",
      "/Users/russii/opt/anaconda3/lib/python3.7/site-packages/sklearn/linear_model/_ridge.py:148: LinAlgWarning: Ill-conditioned matrix (rcond=4.56981e-08): result may not be accurate.\n",
      "  overwrite_a=True).T\n",
      "/Users/russii/opt/anaconda3/lib/python3.7/site-packages/sklearn/linear_model/_ridge.py:148: LinAlgWarning: Ill-conditioned matrix (rcond=4.01909e-08): result may not be accurate.\n",
      "  overwrite_a=True).T\n",
      "/Users/russii/opt/anaconda3/lib/python3.7/site-packages/sklearn/linear_model/_ridge.py:148: LinAlgWarning: Ill-conditioned matrix (rcond=1.2503e-08): result may not be accurate.\n",
      "  overwrite_a=True).T\n"
     ]
    },
    {
     "name": "stdout",
     "output_type": "stream",
     "text": [
      "10/50 Training score: 0.7778. Testing score: 0.7188\n"
     ]
    },
    {
     "name": "stderr",
     "output_type": "stream",
     "text": [
      "/Users/russii/opt/anaconda3/lib/python3.7/site-packages/sklearn/linear_model/_ridge.py:148: LinAlgWarning: Ill-conditioned matrix (rcond=4.32404e-08): result may not be accurate.\n",
      "  overwrite_a=True).T\n",
      "/Users/russii/opt/anaconda3/lib/python3.7/site-packages/sklearn/linear_model/_ridge.py:148: LinAlgWarning: Ill-conditioned matrix (rcond=7.83674e-09): result may not be accurate.\n",
      "  overwrite_a=True).T\n",
      "/Users/russii/opt/anaconda3/lib/python3.7/site-packages/sklearn/linear_model/_ridge.py:148: LinAlgWarning: Ill-conditioned matrix (rcond=4.33388e-09): result may not be accurate.\n",
      "  overwrite_a=True).T\n",
      "/Users/russii/opt/anaconda3/lib/python3.7/site-packages/sklearn/linear_model/_ridge.py:148: LinAlgWarning: Ill-conditioned matrix (rcond=7.47103e-09): result may not be accurate.\n",
      "  overwrite_a=True).T\n",
      "/Users/russii/opt/anaconda3/lib/python3.7/site-packages/sklearn/linear_model/_ridge.py:148: LinAlgWarning: Ill-conditioned matrix (rcond=1.24694e-08): result may not be accurate.\n",
      "  overwrite_a=True).T\n",
      "/Users/russii/opt/anaconda3/lib/python3.7/site-packages/sklearn/linear_model/_ridge.py:148: LinAlgWarning: Ill-conditioned matrix (rcond=4.89113e-09): result may not be accurate.\n",
      "  overwrite_a=True).T\n",
      "/Users/russii/opt/anaconda3/lib/python3.7/site-packages/sklearn/linear_model/_ridge.py:148: LinAlgWarning: Ill-conditioned matrix (rcond=2.86687e-08): result may not be accurate.\n",
      "  overwrite_a=True).T\n",
      "/Users/russii/opt/anaconda3/lib/python3.7/site-packages/sklearn/linear_model/_ridge.py:148: LinAlgWarning: Ill-conditioned matrix (rcond=1.94275e-08): result may not be accurate.\n",
      "  overwrite_a=True).T\n"
     ]
    },
    {
     "name": "stdout",
     "output_type": "stream",
     "text": [
      "20/50 Training score: 0.7743. Testing score: 0.724\n"
     ]
    },
    {
     "name": "stderr",
     "output_type": "stream",
     "text": [
      "/Users/russii/opt/anaconda3/lib/python3.7/site-packages/sklearn/linear_model/_ridge.py:148: LinAlgWarning: Ill-conditioned matrix (rcond=9.33406e-09): result may not be accurate.\n",
      "  overwrite_a=True).T\n",
      "/Users/russii/opt/anaconda3/lib/python3.7/site-packages/sklearn/linear_model/_ridge.py:148: LinAlgWarning: Ill-conditioned matrix (rcond=7.99444e-09): result may not be accurate.\n",
      "  overwrite_a=True).T\n",
      "/Users/russii/opt/anaconda3/lib/python3.7/site-packages/sklearn/linear_model/_ridge.py:148: LinAlgWarning: Ill-conditioned matrix (rcond=2.0901e-08): result may not be accurate.\n",
      "  overwrite_a=True).T\n",
      "/Users/russii/opt/anaconda3/lib/python3.7/site-packages/sklearn/linear_model/_ridge.py:148: LinAlgWarning: Ill-conditioned matrix (rcond=8.56272e-09): result may not be accurate.\n",
      "  overwrite_a=True).T\n"
     ]
    },
    {
     "name": "stdout",
     "output_type": "stream",
     "text": [
      "30/50 Training score: 0.7639. Testing score: 0.724\n"
     ]
    },
    {
     "name": "stderr",
     "output_type": "stream",
     "text": [
      "/Users/russii/opt/anaconda3/lib/python3.7/site-packages/sklearn/linear_model/_ridge.py:148: LinAlgWarning: Ill-conditioned matrix (rcond=3.11078e-08): result may not be accurate.\n",
      "  overwrite_a=True).T\n",
      "/Users/russii/opt/anaconda3/lib/python3.7/site-packages/sklearn/linear_model/_ridge.py:148: LinAlgWarning: Ill-conditioned matrix (rcond=7.00909e-09): result may not be accurate.\n",
      "  overwrite_a=True).T\n",
      "/Users/russii/opt/anaconda3/lib/python3.7/site-packages/sklearn/linear_model/_ridge.py:148: LinAlgWarning: Ill-conditioned matrix (rcond=4.12532e-08): result may not be accurate.\n",
      "  overwrite_a=True).T\n",
      "/Users/russii/opt/anaconda3/lib/python3.7/site-packages/sklearn/linear_model/_ridge.py:148: LinAlgWarning: Ill-conditioned matrix (rcond=3.74873e-08): result may not be accurate.\n",
      "  overwrite_a=True).T\n",
      "/Users/russii/opt/anaconda3/lib/python3.7/site-packages/sklearn/linear_model/_ridge.py:148: LinAlgWarning: Ill-conditioned matrix (rcond=1.07943e-08): result may not be accurate.\n",
      "  overwrite_a=True).T\n",
      "/Users/russii/opt/anaconda3/lib/python3.7/site-packages/sklearn/linear_model/_ridge.py:148: LinAlgWarning: Ill-conditioned matrix (rcond=3.20038e-09): result may not be accurate.\n",
      "  overwrite_a=True).T\n",
      "/Users/russii/opt/anaconda3/lib/python3.7/site-packages/sklearn/linear_model/_ridge.py:148: LinAlgWarning: Ill-conditioned matrix (rcond=4.90221e-09): result may not be accurate.\n",
      "  overwrite_a=True).T\n"
     ]
    },
    {
     "name": "stdout",
     "output_type": "stream",
     "text": [
      "40/50 Training score: 0.7587. Testing score: 0.7396\n"
     ]
    },
    {
     "name": "stderr",
     "output_type": "stream",
     "text": [
      "/Users/russii/opt/anaconda3/lib/python3.7/site-packages/sklearn/linear_model/_ridge.py:148: LinAlgWarning: Ill-conditioned matrix (rcond=1.33625e-09): result may not be accurate.\n",
      "  overwrite_a=True).T\n",
      "/Users/russii/opt/anaconda3/lib/python3.7/site-packages/sklearn/linear_model/_ridge.py:148: LinAlgWarning: Ill-conditioned matrix (rcond=7.75713e-09): result may not be accurate.\n",
      "  overwrite_a=True).T\n",
      "/Users/russii/opt/anaconda3/lib/python3.7/site-packages/sklearn/linear_model/_ridge.py:148: LinAlgWarning: Ill-conditioned matrix (rcond=2.2142e-08): result may not be accurate.\n",
      "  overwrite_a=True).T\n",
      "/Users/russii/opt/anaconda3/lib/python3.7/site-packages/sklearn/linear_model/_ridge.py:148: LinAlgWarning: Ill-conditioned matrix (rcond=2.41399e-08): result may not be accurate.\n",
      "  overwrite_a=True).T\n",
      "/Users/russii/opt/anaconda3/lib/python3.7/site-packages/sklearn/linear_model/_ridge.py:148: LinAlgWarning: Ill-conditioned matrix (rcond=4.92181e-08): result may not be accurate.\n",
      "  overwrite_a=True).T\n",
      "/Users/russii/opt/anaconda3/lib/python3.7/site-packages/sklearn/linear_model/_ridge.py:148: LinAlgWarning: Ill-conditioned matrix (rcond=1.03016e-08): result may not be accurate.\n",
      "  overwrite_a=True).T\n"
     ]
    },
    {
     "name": "stdout",
     "output_type": "stream",
     "text": [
      "50/50 Training score: 0.7674. Testing score: 0.7292\n",
      "10/50 Training score: 0.7483. Testing score: 0.6823\n",
      "20/50 Training score: 0.783. Testing score: 0.7656\n",
      "30/50 Training score: 0.7847. Testing score: 0.7396\n",
      "40/50 Training score: 0.7847. Testing score: 0.7292\n",
      "50/50 Training score: 0.776. Testing score: 0.7448\n",
      "10/50 Training score: 0.7118. Testing score: 0.6042\n",
      "20/50 Training score: 0.7899. Testing score: 0.6927\n",
      "30/50 Training score: 0.7014. Testing score: 0.6875\n",
      "40/50 Training score: 0.6753. Testing score: 0.651\n",
      "50/50 Training score: 0.7135. Testing score: 0.6875\n"
     ]
    }
   ],
   "source": [
    "vandermonde_12 = test(VandermondeELM, neurons_number=12, transpose=False, drop_ones=False)\n",
    "real_low_7_12 = test(LowRankELM, neurons_number=12, ranks=[7])\n",
    "real_low_4_12 = test(LowRankELM, neurons_number=12, ranks=[4])"
   ]
  },
  {
   "cell_type": "code",
   "execution_count": 9,
   "metadata": {},
   "outputs": [],
   "source": [
    "with open(\"diabetes/losers_temp.p\", \"wb\") as file:\n",
    "     pickle.dump([real_low_4, real_low_7, vandermonde, real_low_4_12, real_low_7_12, vandermonde_12], file)"
   ]
  },
  {
   "cell_type": "markdown",
   "metadata": {},
   "source": [
    "# Results (Figures 4.2 and 4.3)"
   ]
  },
  {
   "cell_type": "code",
   "execution_count": 8,
   "metadata": {},
   "outputs": [],
   "source": [
    "with open(\"diabetes/losers.p\", \"rb\") as file:\n",
    "     [real_low_4, real_low_7, vandermonde, real_low_4_12, real_low_7_12, vandermonde_12]= pickle.load(file)"
   ]
  },
  {
   "cell_type": "code",
   "execution_count": 9,
   "metadata": {},
   "outputs": [],
   "source": [
    "with open(\"diabetes/results.p\", \"rb\") as file:\n",
    "    [neurons, hpelm_scores, classical_scores, t_scores, c_scores, fastfood_scores, low_rank] = pickle.load(file)"
   ]
  },
  {
   "cell_type": "code",
   "execution_count": 10,
   "metadata": {},
   "outputs": [
    {
     "name": "stderr",
     "output_type": "stream",
     "text": [
      "The PostScript backend does not support transparency; partially transparent artists will be rendered opaque.\n",
      "The PostScript backend does not support transparency; partially transparent artists will be rendered opaque.\n",
      "The PostScript backend does not support transparency; partially transparent artists will be rendered opaque.\n",
      "The PostScript backend does not support transparency; partially transparent artists will be rendered opaque.\n",
      "The PostScript backend does not support transparency; partially transparent artists will be rendered opaque.\n",
      "The PostScript backend does not support transparency; partially transparent artists will be rendered opaque.\n",
      "The PostScript backend does not support transparency; partially transparent artists will be rendered opaque.\n",
      "The PostScript backend does not support transparency; partially transparent artists will be rendered opaque.\n",
      "The PostScript backend does not support transparency; partially transparent artists will be rendered opaque.\n",
      "The PostScript backend does not support transparency; partially transparent artists will be rendered opaque.\n",
      "The PostScript backend does not support transparency; partially transparent artists will be rendered opaque.\n",
      "The PostScript backend does not support transparency; partially transparent artists will be rendered opaque.\n"
     ]
    },
    {
     "data": {
      "image/png": "[encoded data removed]",
      "text/plain": [
       "<Figure size 340.157x141.732 with 1 Axes>"
      ]
     },
     "metadata": {
      "needs_background": "light"
     },
     "output_type": "display_data"
    },
    {
     "data": {
      "image/png": "[encoded data removed]",
      "text/plain": [
       "<Figure size 340.157x141.732 with 1 Axes>"
      ]
     },
     "metadata": {
      "needs_background": "light"
     },
     "output_type": "display_data"
    },
    {
     "data": {
      "text/plain": [
       "<Figure size 340.157x141.732 with 0 Axes>"
      ]
     },
     "metadata": {},
     "output_type": "display_data"
    },
    {
     "data": {
      "image/png": "[encoded data removed]",
      "text/plain": [
       "<Figure size 340.157x141.732 with 1 Axes>"
      ]
     },
     "metadata": {
      "needs_background": "light"
     },
     "output_type": "display_data"
    }
   ],
   "source": [
    "def getAllMeansAndStd(many_scores):\n",
    "    means = []\n",
    "    stds = []\n",
    "    for scores in many_scores:\n",
    "        (mean, std) = getMeansAndStd(scores)\n",
    "        means.append(mean)\n",
    "        stds.append(std)\n",
    "    return (np.asarray(means), np.asarray(stds))\n",
    "\n",
    "def getMeansAndStd(scores):\n",
    "    scores = np.asarray(scores)\n",
    "    mean = np.mean(scores, axis=-1)\n",
    "    std = np.std(scores, axis=-1)\n",
    "    return (mean, std)\n",
    "\n",
    "start = 0\n",
    "def plot_scores(scores, neurons, label, start=start, test=True):\n",
    "    (mean, std) = getMeansAndStd(scores)\n",
    "    plt.errorbar(neurons[start:], mean[start:, int(test)], std[start:, int(test)], label=label)\n",
    "\n",
    "figure = plt.figure(figsize=(12/2.54, 5/2.54))\n",
    "plt.rcParams.update({'font.size': 8})\n",
    "\n",
    "plot_scores(classical_scores[:], neurons[:], \"Classical ELM\")\n",
    "\n",
    "plot_scores(t_scores[:], neurons[:], \"Toeplitz ELM\")\n",
    "\n",
    "plot_scores(c_scores[:], neurons[:], \"Circulant ELM\")\n",
    "\n",
    "plot_scores(fastfood_scores[:], neurons[:], \"Fastfood ELM\")\n",
    "\n",
    "plot_scores(low_rank[:], neurons[:], \"Toeplitz-like ELM\")\n",
    "\n",
    "plot_scores(hpelm_scores[:], neurons[:], \"HP-ELM\")\n",
    "\n",
    "\n",
    "plt.title(\"Diabetes Test Accuracy Score\")\n",
    "plt.xlabel(\"Number of Neurons in Hidden Layer\")\n",
    "plt.ylabel(\"Accuracy Score\")\n",
    "\n",
    "plt.xticks(neurons[start:])\n",
    "plt.legend()\n",
    "plt.grid(True)\n",
    "\n",
    "plt.subplots_adjust(top = 1, bottom = 0, right = 1, left = 0, \n",
    "            hspace = 0, wspace = 0)\n",
    "\n",
    "plt.savefig(\"diabetes/diab_score_test.eps\", format='eps', bbox_inches = 'tight',\n",
    "    pad_inches = 0)\n",
    "\n",
    "figure = plt.figure(figsize=(12/2.54, 5/2.54))\n",
    "plt.rcParams.update({'font.size': 8})\n",
    "\n",
    "plot_scores(classical_scores[:], neurons[:], \"Classical ELM\", test=False)\n",
    "\n",
    "plot_scores(t_scores[:], neurons[:], \"Toeplitz ELM\", test=False)\n",
    "\n",
    "plot_scores(c_scores[:], neurons[:], \"Circulant ELM\", test=False)\n",
    "\n",
    "plot_scores(fastfood_scores[:], neurons[:], \"Fastfood ELM\", test=False)\n",
    "\n",
    "plot_scores(low_rank[:], neurons[:], \"Toeplitz-like ELM\", test=False)\n",
    "\n",
    "plot_scores(hpelm_scores[:], neurons[:], \"HP-ELM\", test=False)\n",
    "\n",
    "plt.title(\"Diabetes Training Accuracy Score\")\n",
    "plt.xlabel(\"Number of Neurons in Hidden Layer\")\n",
    "plt.ylabel(\"Accuracy Score\")\n",
    "\n",
    "plt.xticks(neurons[start:])\n",
    "plt.legend()\n",
    "plt.grid(True)\n",
    "\n",
    "plt.subplots_adjust(top = 1, bottom = 0, right = 1, left = 0, \n",
    "            hspace = 0, wspace = 0)\n",
    "\n",
    "plt.savefig(\"diabetes/diab_score_train.eps\", format='eps', bbox_inches = 'tight',\n",
    "    pad_inches = 0)\n",
    "\n",
    "figure = plt.figure(figsize=(12/2.54, 5/2.54))\n",
    "plt.rcParams.update({'font.size': 8})\n",
    "\n",
    "table = []\n",
    "number = -1\n",
    "\n",
    "results = [hpelm_scores[number], classical_scores[number], fastfood_scores[number], low_rank[number], \n",
    "           t_scores[number], c_scores[number], real_low_7, real_low_4, vandermonde]\n",
    "names = [\"HP-ELM\", \"Classical\", \"Fastfood\", \"Toeplitz-\\n-like \\n D. Rank 2\",\n",
    "             \"Toeplitz\", \"Circulant\",\"Low-\\n-Rank \\n Rank 7\", \"Low-\\n-Rank \\n Rank 4\",  \"Vander-\\n monde\"]\n",
    "(means, stds) = getAllMeansAndStd(results)\n",
    "\n",
    "for i in range(len(names)):\n",
    "    table.append([names[i], means[i], stds[i]])\n",
    "\n",
    "figure = plt.figure(figsize=(12/2.54, 5/2.54))\n",
    "plt.rcParams.update({'font.size': 8})\n",
    "\n",
    "plt.errorbar(names, means[:, 1], stds[:, 1], label=\"Testing/28 Neur.\")\n",
    "plt.errorbar(names, means[:, 0], stds[:, 0], label=\"Training/28 Neur.\")\n",
    "\n",
    "number = 4\n",
    "\n",
    "results = [hpelm_scores[number], classical_scores[number], fastfood_scores[number], low_rank[number], \n",
    "           t_scores[number], c_scores[number], real_low_7_12, real_low_4_12, vandermonde_12]\n",
    "(means, stds) = getAllMeansAndStd(results)\n",
    "\n",
    "for i in range(len(names)):\n",
    "    table.append([names[i], means[i], stds[i]])\n",
    "    \n",
    "plt.errorbar(names, means[:, 1], stds[:, 1], label=\"Testing/12 Neur.\")\n",
    "plt.errorbar(names, means[:, 0], stds[:, 0], label=\"Training/12 Neur.\")\n",
    "plt.title(\"Diabetes Dataset Results for 12 and 28 Neurons in Hidden Layer\")\n",
    "plt.ylabel(\"Accuracy Score\")\n",
    "plt.xlabel(\"ELM Types\")\n",
    "plt.grid(True)\n",
    "plt.legend()  \n",
    "\n",
    "plt.subplots_adjust(top = 1, bottom = 0, right = 1, left = 0, \n",
    "            hspace = 0, wspace = 0)\n",
    "plt.savefig(\"diabetes/diab_score_28.eps\", format='eps', bbox_inches = 'tight',\n",
    "    pad_inches = 0)"
   ]
  },
  {
   "cell_type": "code",
   "execution_count": 11,
   "metadata": {},
   "outputs": [
    {
     "data": {
      "text/plain": [
       "[['HP-ELM', array([0.79177083, 0.73145833]), array([0.00778281, 0.01583744])],\n",
       " ['Classical',\n",
       "  array([0.79597222, 0.73447917]),\n",
       "  array([0.00677074, 0.01525571])],\n",
       " ['Fastfood',\n",
       "  array([0.79572917, 0.73427083]),\n",
       "  array([0.0055838 , 0.01335976])],\n",
       " ['Toeplitz-\\n-like \\n D. Rank 2',\n",
       "  array([0.79586806, 0.73479167]),\n",
       "  array([0.00601497, 0.01494492])],\n",
       " ['Toeplitz',\n",
       "  array([0.79423611, 0.73833333]),\n",
       "  array([0.00596616, 0.01595349])],\n",
       " ['Circulant',\n",
       "  array([0.79506944, 0.73520833]),\n",
       "  array([0.00682148, 0.01654775])],\n",
       " ['Low-\\n-Rank \\n Rank 7',\n",
       "  array([0.78569444, 0.733125  ]),\n",
       "  array([0.0132953 , 0.02126021])],\n",
       " ['Low-\\n-Rank \\n Rank 4',\n",
       "  array([0.754375 , 0.6978125]),\n",
       "  array([0.02562218, 0.03137977])],\n",
       " ['Vander-\\n monde',\n",
       "  array([0.78496528, 0.71885417]),\n",
       "  array([0.00588242, 0.01277858])],\n",
       " ['HP-ELM', array([0.76902778, 0.73375   ]), array([0.01657585, 0.0198912 ])],\n",
       " ['Classical', array([0.7834375, 0.736875 ]), array([0.00793925, 0.01375   ])],\n",
       " ['Fastfood',\n",
       "  array([0.78100694, 0.736875  ]),\n",
       "  array([0.01119225, 0.01563333])],\n",
       " ['Toeplitz-\\n-like \\n D. Rank 2',\n",
       "  array([0.78114583, 0.73520833]),\n",
       "  array([0.01133355, 0.01706427])],\n",
       " ['Toeplitz',\n",
       "  array([0.78409722, 0.73364583]),\n",
       "  array([0.00714772, 0.01370138])],\n",
       " ['Circulant',\n",
       "  array([0.78454861, 0.73739583]),\n",
       "  array([0.00828436, 0.01480816])],\n",
       " ['Low-\\n-Rank \\n Rank 7',\n",
       "  array([0.7625 , 0.72625]),\n",
       "  array([0.02246772, 0.02528398])],\n",
       " ['Low-\\n-Rank \\n Rank 4',\n",
       "  array([0.73611111, 0.70010417]),\n",
       "  array([0.02570148, 0.03276021])],\n",
       " ['Vander-\\n monde',\n",
       "  array([0.7690625 , 0.72552083]),\n",
       "  array([0.00600895, 0.01165783])]]"
      ]
     },
     "execution_count": 11,
     "metadata": {},
     "output_type": "execute_result"
    }
   ],
   "source": [
    "table"
   ]
  },
  {
   "cell_type": "code",
   "execution_count": null,
   "metadata": {},
   "outputs": [],
   "source": []
  }
 ],
 "metadata": {
  "kernelspec": {
   "display_name": "Python 3",
   "language": "python",
   "name": "python3"
  },
  "language_info": {
   "codemirror_mode": {
    "name": "ipython",
    "version": 3
   },
   "file_extension": ".py",
   "mimetype": "text/x-python",
   "name": "python",
   "nbconvert_exporter": "python",
   "pygments_lexer": "ipython3",
   "version": "3.7.6"
  }
 },
 "nbformat": 4,
 "nbformat_minor": 4
}
